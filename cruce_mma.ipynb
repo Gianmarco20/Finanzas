{
 "cells": [
  {
   "cell_type": "code",
   "execution_count": null,
   "metadata": {},
   "outputs": [],
   "source": [
    "import pandas as pd\n",
    "import numpy as np\n",
    "import datetime as dt\n",
    "import matplotlib.pyplot as plt\n",
    "import seaborn as sns\n",
    "import yfinance as yf\n",
    "import requests\n",
    "\n",
    "ticker = 'meli'\n",
    "ticker = ticker.upper()\n",
    "today = dt.date.today()"
   ]
  },
  {
   "cell_type": "code",
   "execution_count": null,
   "metadata": {},
   "outputs": [],
   "source": [
    "def get_ema(ticker, today = today):\n",
    "    ema_values = []\n",
    "    for short_ema in range(2, 51):\n",
    "        for long_ema in range(10, 91):\n",
    "            if short_ema < long_ema:\n",
    "                data = yf.download(tickers = ticker, start = '2010-1-1', end = f'{today.year}-{today.month}-{today.day}', auto_adjust = True)\n",
    "                data[f'EMA_{short_ema}'] = data['Close'].ewm(span = short_ema).mean()\n",
    "                data[f'EMA_{long_ema}'] = data['Close'].ewm(span = long_ema).mean()\n",
    "                data['Ratio'] = (data[f'EMA_{short_ema}'] / data[f'EMA_{long_ema}']).shift()\n",
    "                data['State'] = data.apply(lambda row: 'In' if row['Ratio'] >= 1 else 'Out', axis = 1)\n",
    "                data['Yield'] = data['Close'].pct_change() + 1\n",
    "\n",
    "                in_asset = data[data['State'] == 'In']\n",
    "                cumulative_yield = (in_asset['Yield'].prod() - 1)\n",
    "                start_date = in_asset.index[0].date()\n",
    "                days = (today - start_date).days\n",
    "                annual_yield = round((((1 + cumulative_yield) ** (365 / days)) - 1) * 100, 2)\n",
    "                ema_values.append([short_ema, long_ema, annual_yield])\n",
    "\n",
    "    return ema_values\n",
    "\n",
    "ema_values = get_ema(ticker = ticker)\n",
    "print(ema_values)"
   ]
  },
  {
   "cell_type": "code",
   "execution_count": null,
   "metadata": {},
   "outputs": [],
   "source": [
    "def create_ema_df(data):\n",
    "    ema_columns = ['short_ema', 'long_ema', 'yield']\n",
    "    ema_df = pd.DataFrame(data, columns = ema_columns)\n",
    "    ema_df.sort_values(by = 'yield', ascending = False, inplace = True)\n",
    "    ema_df = ema_df.iloc[:10, :]\n",
    "    \n",
    "    return ema_df\n",
    "\n",
    "ema_df = create_ema_df(data = ema_values)\n",
    "ema_df"
   ]
  },
  {
   "cell_type": "code",
   "execution_count": null,
   "metadata": {},
   "outputs": [],
   "source": [
    "def mean_emas(data, ticker, today = today):\n",
    "    mean_short_ema = int(data['short_ema'].mean())\n",
    "    mean_long_ema = int(data['long_ema'].mean())\n",
    "    mean_yield = int(data['yield'].mean())\n",
    "    data = yf.download(tickers = ticker, start = '2010-1-1', end = f'{today.year}-{today.month}-{today.day}', auto_adjust = True)\n",
    "    data[f'EMA_{mean_short_ema}'] = data['Close'].ewm(span = mean_short_ema).mean()\n",
    "    data[f'EMA_{mean_long_ema}'] = data['Close'].ewm(span = mean_long_ema).mean()\n",
    "    data['Ratio'] = (data[f'EMA_{mean_short_ema}'] / data[f'EMA_{mean_long_ema}']).shift()\n",
    "    data['State'] = data.apply(lambda row: 'In' if row['Ratio'] >= 1 else 'Out', axis = 1)\n",
    "    data['Action'] = ['Buy' if (data['State'][i] == 'In') and (data['State'][i - 1] == 'Out') else 'Sell' if (data['State'][i] == 'Out') and (data['State'][i - 1] == 'In') else 'Pass' for i in range(len(data))]\n",
    "\n",
    "    sell_signals = data[data['Action'] == 'Sell']\n",
    "    buy_signals = data[data['Action'] == 'Buy']\n",
    "    \n",
    "    plt.style.use('dark_background')\n",
    "    fig, ax = plt.subplots(figsize = (40, 16))\n",
    "    ax.scatter(x = sell_signals.index, y = sell_signals['Close'], color = 'red', marker = 'v', label = 'Sell', s = 200)\n",
    "    ax.scatter(x = buy_signals.index, y = buy_signals['Close'], color = 'green', marker = '^', label = 'Buy', s = 200)\n",
    "    sns.lineplot(data = data, x = data.index, y = data['Close'], label = 'Stock Price')\n",
    "    sns.lineplot(data = data, x = data.index, y = data[f'EMA_{mean_short_ema}'], label = f'Short EMA ({mean_short_ema})')\n",
    "    sns.lineplot(data = data, x = data.index, y = data[f'EMA_{mean_long_ema}'], label = f'Long EMA ({mean_long_ema})')\n",
    "    plt.legend(fontsize = 'large')\n",
    "    plt.title(f'Rendimiento acumulado anual de {ticker}: {mean_yield}%')\n",
    "    plt.show()\n",
    "\n",
    "    return data\n",
    "\n",
    "mean_emas_data = mean_emas(data = ema_df, ticker = ticker)"
   ]
  },
  {
   "cell_type": "code",
   "execution_count": null,
   "metadata": {},
   "outputs": [],
   "source": [
    "def sp_companies():\n",
    "    url = 'https://www.slickcharts.com/sp500'\n",
    "    headers = {\n",
    "        \"User-Agent\": \"Mozilla/5.0 (X11; Linux x86_64) AppleWebKit/537.36 (KHTML, like Gecko) Chrome/50.0.2661.75 Safari/537.36\",\n",
    "        \"X-Requested-With\": \"XMLHttpRequest\"\n",
    "    }\n",
    "\n",
    "    r = requests.get(url = url, headers = headers)\n",
    "    sp_data = pd.read_html(r.text)[0][['Company', 'Symbol']]\n",
    "\n",
    "    return sp_data\n",
    "\n",
    "sp_companies()"
   ]
  },
  {
   "cell_type": "code",
   "execution_count": null,
   "metadata": {},
   "outputs": [],
   "source": [
    "def stock_correlations(ticker = ticker, sp_companies = sp_companies(), today = today):\n",
    "    tickers = sp_companies['Symbol'].to_list()\n",
    "    tickers = [s.replace('.', '-') for s in tickers]\n",
    "    if ticker in tickers:\n",
    "        tickers\n",
    "    else:\n",
    "        tickers.append(ticker)\n",
    "\n",
    "    data = yf.download(tickers = tickers, start = '2010-1-1', end = f'{today.year}-{today.month}-{today.day}', auto_adjust = True)['Close']\n",
    "    data = data.pct_change()\n",
    "    correlation = data.corr()[ticker]\n",
    "    correlation = correlation.sort_values(ascending = False)\n",
    "    correlation = correlation.iloc[1:11]\n",
    "    series_df = correlation.reset_index()\n",
    "    series_df.columns = ['Symbol', 'Correlation']\n",
    "    correlation = pd.merge(left = series_df, right = sp_companies, how = 'left', left_on= 'Symbol', right_on = 'Symbol')\n",
    "    correlation.rename(columns = {'Company': 'Name'}, inplace = True)\n",
    "    correlation.set_index('Symbol', inplace = True)\n",
    "    \n",
    "    return correlation\n",
    "\n",
    "best_stocks = stock_correlations()\n",
    "best_stocks"
   ]
  },
  {
   "cell_type": "code",
   "execution_count": null,
   "metadata": {},
   "outputs": [],
   "source": [
    "def commodities():\n",
    "    url = 'https://finance.yahoo.com/commodities/?guccounter=1&guce_referrer=aHR0cHM6Ly93d3cuZ29vZ2xlLmNvbS8&guce_referrer_sig=AQAAACxVMXbUY4TFerSQ8G61bHBLfBhaXr7kfzXI_kTs9WfeaaeqQ_x_RHqaiaf9mZxlSxo28LHouGXWcFWxWnhDnotI6yS50Efs0VyFDt_dHPHraJ4h9S9gkI1t31lN2tTfNPGrYPmmSjv4ekDEoqk72McrbL7QSs1mYtRaKsX7SB4A'\n",
    "    headers = {\n",
    "        \"User-Agent\": \"Mozilla/5.0 (X11; Linux x86_64) AppleWebKit/537.36 (KHTML, like Gecko) Chrome/50.0.2661.75 Safari/537.36\",\n",
    "        \"X-Requested-With\": \"XMLHttpRequest\"\n",
    "    }\n",
    "    r = requests.get(url = url, headers = headers)\n",
    "    commodities = pd.read_html(r.text)[0]\n",
    "    commodities = commodities.loc[:, ['Symbol', 'Name']]\n",
    "\n",
    "    return commodities\n",
    "\n",
    "commodities()"
   ]
  },
  {
   "cell_type": "code",
   "execution_count": null,
   "metadata": {},
   "outputs": [],
   "source": [
    "def commodities_correlations(ticker = ticker, commodities = commodities(), today = today):\n",
    "    tickers = commodities['Symbol'].to_list()\n",
    "    tickers.append(ticker)\n",
    "    data = yf.download(tickers = tickers, start = '2010-1-1', end = f'{today.year}-{today.month}-{today.day}', auto_adjust = True)['Close']\n",
    "    data = data.pct_change()\n",
    "    correlation = data.corr()\n",
    "    correlation = correlation[ticker]\n",
    "    correlation = correlation.sort_values(ascending = False)\n",
    "    correlation = correlation.iloc[1:4]\n",
    "    df_correlation = correlation.reset_index()\n",
    "    df_correlation.columns = ['Symbol', 'Correlation']\n",
    "    correlation = pd.merge(left = df_correlation, right = commodities, how = 'left', left_on = 'Symbol', right_on = 'Symbol')\n",
    "    correlation = correlation.loc[:, ['Symbol', 'Correlation', 'Name']]\n",
    "    correlation.set_index('Symbol', inplace = True)\n",
    "\n",
    "    return correlation\n",
    "\n",
    "best_commodities = commodities_correlations()\n",
    "best_commodities"
   ]
  },
  {
   "cell_type": "code",
   "execution_count": null,
   "metadata": {},
   "outputs": [],
   "source": [
    "def best_correlations(stocks = best_stocks, commodities = best_commodities):\n",
    "    data = pd.concat(objs = [stocks, commodities])\n",
    "    data.sort_values(by = 'Correlation', ascending = False, inplace = True)\n",
    "\n",
    "    return data\n",
    "\n",
    "best_correlations()"
   ]
  },
  {
   "cell_type": "code",
   "execution_count": null,
   "metadata": {},
   "outputs": [],
   "source": [
    "def graphic_correlations(data = best_correlations(), ticker = ticker, today = today):\n",
    "    tickers = data.index.to_list()\n",
    "    tickers.append(ticker)\n",
    "    values = yf.download(tickers = tickers, start = '2010-1-1', end = f'{today.year}-{today.month}-{today.day}', auto_adjust = True)['Close']\n",
    "    values.dropna(inplace = True)\n",
    "    values = values.divide(values.iloc[0]) * 100\n",
    "\n",
    "    plt.style.use('dark_background')\n",
    "    fig, ax = plt.subplots(figsize = (40, 25))\n",
    "    for ticker in values:\n",
    "        plt.plot(values.index, values[ticker], label = f'{ticker}')\n",
    "        plt.annotate(ticker, xy=(values.index[-1], values[ticker].iloc[-1]), xytext=(5,0), textcoords='offset points', ha='left', va='center', color='white', size = 15)\n",
    "    plt.legend(fontsize = 'x-large')\n",
    "    return values\n",
    "\n",
    "graphic_correlations()"
   ]
  }
 ],
 "metadata": {
  "kernelspec": {
   "display_name": "finance",
   "language": "python",
   "name": "python3"
  },
  "language_info": {
   "codemirror_mode": {
    "name": "ipython",
    "version": 3
   },
   "file_extension": ".py",
   "mimetype": "text/x-python",
   "name": "python",
   "nbconvert_exporter": "python",
   "pygments_lexer": "ipython3",
   "version": "3.11.7"
  }
 },
 "nbformat": 4,
 "nbformat_minor": 2
}
