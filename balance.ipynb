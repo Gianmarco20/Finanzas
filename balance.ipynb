{
 "cells": [
  {
   "cell_type": "code",
   "execution_count": null,
   "metadata": {},
   "outputs": [],
   "source": [
    "import pandas as pd\n",
    "import numpy as np\n",
    "import datetime as dt\n",
    "import yfinance as yf\n",
    "import requests"
   ]
  },
  {
   "cell_type": "code",
   "execution_count": null,
   "metadata": {},
   "outputs": [],
   "source": [
    "ticker = 'VIST'\n",
    "apikey = ' 5NV8GQ5SU8GXPIDV'\n",
    "end_points = ['INCOME_STATEMENT', 'BALANCE_SHEET', 'CASH_FLOW']\n",
    "list_data = []\n",
    "\n",
    "for end_point in end_points:\n",
    "    url = f'https://www.alphavantage.co/query?function={end_point}&symbol={ticker}&apikey={apikey}'\n",
    "    r = requests.get(url = url)\n",
    "    globals()[f'df_{end_point}'] = pd.DataFrame(r.json()['quarterlyReports'])\n",
    "\n",
    "data = pd.concat(objs = [df_INCOME_STATEMENT, df_BALANCE_SHEET, df_CASH_FLOW], axis = 0)\n",
    "data"
   ]
  },
  {
   "cell_type": "code",
   "execution_count": null,
   "metadata": {},
   "outputs": [],
   "source": [
    "data['fiscalDateEnding'] = pd.to_datetime(arg = data['fiscalDateEnding'], format = '%Y-%m-%d')\n",
    "data.set_index('fiscalDateEnding', inplace = True)\n",
    "data"
   ]
  }
 ],
 "metadata": {
  "kernelspec": {
   "display_name": "base",
   "language": "python",
   "name": "python3"
  },
  "language_info": {
   "codemirror_mode": {
    "name": "ipython",
    "version": 3
   },
   "file_extension": ".py",
   "mimetype": "text/x-python",
   "name": "python",
   "nbconvert_exporter": "python",
   "pygments_lexer": "ipython3",
   "version": "3.11.7"
  }
 },
 "nbformat": 4,
 "nbformat_minor": 2
}
